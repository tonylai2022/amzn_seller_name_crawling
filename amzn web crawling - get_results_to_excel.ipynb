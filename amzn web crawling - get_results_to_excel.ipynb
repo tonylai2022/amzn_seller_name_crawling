{
 "cells": [
  {
   "cell_type": "code",
   "execution_count": 1,
   "id": "305d394f",
   "metadata": {},
   "outputs": [],
   "source": [
    "#import libraries\n",
    "from urllib.request import urlopen\n",
    "from bs4 import BeautifulSoup \n",
    "import requests\n",
    "import time\n",
    "import pandas\n",
    "import random \n",
    "\n",
    "\n",
    "def get_brand_item(asin):\n",
    "\n",
    "    URL = 'https://www.amazon.com/dp/'+ asin\n",
    "\n",
    "    headers = {\"User-Agent\": \"Mozilla/5.0 (Windows NT 10.0; Win64; x64) AppleWebKit/537.36 (KHTML, like Gecko) Chrome/78.0.3904.108 Safari/537.36\", \"Accept-Encoding\":\"gzip, deflate\", \"Accept\":\"text/html,application/xhtml+xml,application/xml;q=0.9,*/*;q=0.8\", \"DNT\":\"1\",\"Connection\":\"close\", \"Upgrade-Insecure-Requests\":\"1\"}\n",
    "\n",
    "    page = requests.get(URL, headers=headers)\n",
    "\n",
    "    soup1 = BeautifulSoup(page.content, \"html.parser\")\n",
    "\n",
    "    soup2 = BeautifulSoup(soup1.prettify(), \"html.parser\")\n",
    "\n",
    "    product_list = []\n",
    "\n",
    "\n",
    "    #Brand Name\n",
    "    brand = soup2.findAll('div',{'class':'a-section a-spacing-none'})\n",
    "\n",
    "    product_list = list()\n",
    "    for p_item in brand:\n",
    "        try:\n",
    "            p_brand = p_item.find('a')\n",
    "            #print(p_item.find('a'))\n",
    "            if p_brand is None:\n",
    "                continue\n",
    "            else:\n",
    "                p_brand = p_item.find('a').text.strip()[7:]\n",
    "                product_list.append([asin,p_brand])\n",
    "                #df_asin_brand = pandas.DataFrame(product_list, columns =[\"asin\",\"brand\"])\n",
    "                #print(pandas.DataFrame(product_list, columns =[\"asin\",\"brand\"]))\n",
    "            break\n",
    "        except:\n",
    "            print(\"error\")\n",
    "\n",
    "    \n",
    "    random_number1 = random.randint(2, 5)\n",
    "    time.sleep(random_number1)\n",
    "    #df_asin_brand = pandas.DataFrame(product_list, columns =[\"asin\",\"brand\"])\n",
    "    return(pandas.DataFrame(product_list, columns =[\"asin\",\"brand\"]))\n",
    "\n",
    "\n",
    "\n"
   ]
  },
  {
   "cell_type": "code",
   "execution_count": 2,
   "id": "163ac947",
   "metadata": {},
   "outputs": [
    {
     "name": "stdout",
     "output_type": "stream",
     "text": [
      "Empty DataFrame\n",
      "Columns: [asin, brand]\n",
      "Index: []\n"
     ]
    }
   ],
   "source": [
    "asin = \"B08XYYZBQ5\"\n",
    "print(get_brand_item(asin))\n",
    "#df_asin_brand"
   ]
  },
  {
   "cell_type": "code",
   "execution_count": 3,
   "id": "e990f698",
   "metadata": {},
   "outputs": [],
   "source": [
    "def get_sellers(asin):    \n",
    "    \n",
    "    URL = 'https://www.amazon.com/gp/product/ajax/ref=auto_load_aod?asin='+asin+'&pc=dp&experienceId=aodAjaxMain'\n",
    "\n",
    "    headers = {\"User-Agent\": \"Mozilla/5.0 (Windows NT 10.0; Win64; x64) AppleWebKit/537.36 (KHTML, like Gecko) Chrome/78.0.3904.108 Safari/537.36\", \"Accept-Encoding\":\"gzip, deflate\", \"Accept\":\"text/html,application/xhtml+xml,application/xml;q=0.9,*/*;q=0.8\", \"DNT\":\"1\",\"Connection\":\"close\", \"Upgrade-Insecure-Requests\":\"1\"}\n",
    "\n",
    "    page = requests.get(URL, headers=headers)\n",
    "\n",
    "    soup1 = BeautifulSoup(page.content, \"html.parser\")\n",
    "\n",
    "    soup2 = BeautifulSoup(soup1.prettify(), \"html.parser\")\n",
    "\n",
    "    offers = []\n",
    "\n",
    "    pinned_offer = soup2.find('div', {\"id\":\"aod-pinned-offer\"})\n",
    "    soldById = pinned_offer.find('div', {\"id\":\"aod-offer-soldBy\"})\n",
    "    soldByTag = soldById.find('span', {\"aria-label\":\"Amazon.com. Opens a new page\"})\n",
    "    if (soldByTag == None):\n",
    "        soldByTag = soldById.find('a', {\"aria-label\":\"Opens a new page\"})\n",
    "    soldBy = soldByTag.get_text().strip()\n",
    "    priceTag = pinned_offer.find('div', {\"id\":\"aod-price-0\"}).find('span', {\"class\":\"a-offscreen\"})\n",
    "    price = priceTag.get_text().strip()\n",
    "    conditionTag = pinned_offer.find('div', {\"id\":\"aod-offer-heading\"})\n",
    "    condition = conditionTag.get_text().strip().replace(\" \", \"\").replace(\"\\n\", \" \")\n",
    "\n",
    "    offers.append([soldBy, price, condition])\n",
    "\n",
    "    for offer in soup2.find_all('div', {\"id\":\"aod-offer\"}):\n",
    "        soldById = offer.find('div', {\"id\":\"aod-offer-soldBy\"})\n",
    "        soldByTag = soldById.find('span', {\"aria-label\":\"Amazon.com. Opens a new page\"})\n",
    "        if (soldByTag == None):\n",
    "            soldByTag = soldById.find('a', {\"aria-label\":\"Opens a new page\"})\n",
    "        soldBy = soldByTag.get_text().strip()\n",
    "        priceTag = offer.find('div', {\"id\":\"aod-offer-price\"}).find('span', {\"class\":\"a-offscreen\"})\n",
    "        price = priceTag.get_text().strip()\n",
    "        conditionTag = offer.find('div', {\"id\":\"aod-offer-heading\"})\n",
    "        condition = conditionTag.get_text().strip().replace(\" \", \"\").replace(\"\\n\", \" \")\n",
    "\n",
    "        offers.append([soldBy, price, condition])\n",
    "        \n",
    "    random_number2 = random.randint(2, 5)\n",
    "    time.sleep(random_number2)\n",
    "    return(pandas.DataFrame(offers, columns =[\"soldBy\",\"price\", \"condition\"]))\n",
    "\n",
    "    df_sellers = pandas.DataFrame(offers, columns =[\"soldBy\",\"price\", \"condition\"])"
   ]
  },
  {
   "cell_type": "code",
   "execution_count": 4,
   "id": "eb2a0e05",
   "metadata": {},
   "outputs": [],
   "source": [
    "#combine all to a function for 1 listing\n",
    "\n",
    "def get_excel_one_listing(asin):\n",
    "        df1= pandas.concat([get_brand_item(asin),get_sellers(asin)],axis=1)\n",
    "        df2 = df1[[\"asin\",\"soldBy\",\"brand\"]]\n",
    "        return(df2)\n",
    "        #df2.to_excel('pandas_to_excel.xlsx', sheet_name='new_sheet_name')\n",
    "\n",
    "    \n",
    "    \n",
    "\n"
   ]
  },
  {
   "cell_type": "code",
   "execution_count": 5,
   "id": "4a267f45",
   "metadata": {},
   "outputs": [
    {
     "ename": "AttributeError",
     "evalue": "'NoneType' object has no attribute 'find'",
     "output_type": "error",
     "traceback": [
      "\u001b[1;31m---------------------------------------------------------------------------\u001b[0m",
      "\u001b[1;31mAttributeError\u001b[0m                            Traceback (most recent call last)",
      "\u001b[1;32m<ipython-input-5-1e4f041a1e59>\u001b[0m in \u001b[0;36m<module>\u001b[1;34m\u001b[0m\n\u001b[0;32m      1\u001b[0m \u001b[0masin\u001b[0m \u001b[1;33m=\u001b[0m \u001b[1;34m'B08L7FXXJ9'\u001b[0m\u001b[1;33m\u001b[0m\u001b[1;33m\u001b[0m\u001b[0m\n\u001b[1;32m----> 2\u001b[1;33m \u001b[0mdf_001\u001b[0m \u001b[1;33m=\u001b[0m \u001b[0mget_excel_one_listing\u001b[0m\u001b[1;33m(\u001b[0m\u001b[0masin\u001b[0m\u001b[1;33m)\u001b[0m\u001b[1;33m\u001b[0m\u001b[1;33m\u001b[0m\u001b[0m\n\u001b[0m\u001b[0;32m      3\u001b[0m \u001b[0mprint\u001b[0m\u001b[1;33m(\u001b[0m\u001b[0mdf_001\u001b[0m\u001b[1;33m)\u001b[0m\u001b[1;33m\u001b[0m\u001b[1;33m\u001b[0m\u001b[0m\n\u001b[0;32m      4\u001b[0m \u001b[0mtype\u001b[0m\u001b[1;33m(\u001b[0m\u001b[0mdf_001\u001b[0m\u001b[1;33m)\u001b[0m\u001b[1;33m\u001b[0m\u001b[1;33m\u001b[0m\u001b[0m\n",
      "\u001b[1;32m<ipython-input-4-843bc5c9e125>\u001b[0m in \u001b[0;36mget_excel_one_listing\u001b[1;34m(asin)\u001b[0m\n\u001b[0;32m      2\u001b[0m \u001b[1;33m\u001b[0m\u001b[0m\n\u001b[0;32m      3\u001b[0m \u001b[1;32mdef\u001b[0m \u001b[0mget_excel_one_listing\u001b[0m\u001b[1;33m(\u001b[0m\u001b[0masin\u001b[0m\u001b[1;33m)\u001b[0m\u001b[1;33m:\u001b[0m\u001b[1;33m\u001b[0m\u001b[1;33m\u001b[0m\u001b[0m\n\u001b[1;32m----> 4\u001b[1;33m         \u001b[0mdf1\u001b[0m\u001b[1;33m=\u001b[0m \u001b[0mpandas\u001b[0m\u001b[1;33m.\u001b[0m\u001b[0mconcat\u001b[0m\u001b[1;33m(\u001b[0m\u001b[1;33m[\u001b[0m\u001b[0mget_brand_item\u001b[0m\u001b[1;33m(\u001b[0m\u001b[0masin\u001b[0m\u001b[1;33m)\u001b[0m\u001b[1;33m,\u001b[0m\u001b[0mget_sellers\u001b[0m\u001b[1;33m(\u001b[0m\u001b[0masin\u001b[0m\u001b[1;33m)\u001b[0m\u001b[1;33m]\u001b[0m\u001b[1;33m,\u001b[0m\u001b[0maxis\u001b[0m\u001b[1;33m=\u001b[0m\u001b[1;36m1\u001b[0m\u001b[1;33m)\u001b[0m\u001b[1;33m\u001b[0m\u001b[1;33m\u001b[0m\u001b[0m\n\u001b[0m\u001b[0;32m      5\u001b[0m         \u001b[0mdf2\u001b[0m \u001b[1;33m=\u001b[0m \u001b[0mdf1\u001b[0m\u001b[1;33m[\u001b[0m\u001b[1;33m[\u001b[0m\u001b[1;34m\"asin\"\u001b[0m\u001b[1;33m,\u001b[0m\u001b[1;34m\"soldBy\"\u001b[0m\u001b[1;33m,\u001b[0m\u001b[1;34m\"brand\"\u001b[0m\u001b[1;33m]\u001b[0m\u001b[1;33m]\u001b[0m\u001b[1;33m\u001b[0m\u001b[1;33m\u001b[0m\u001b[0m\n\u001b[0;32m      6\u001b[0m         \u001b[1;32mreturn\u001b[0m\u001b[1;33m(\u001b[0m\u001b[0mdf2\u001b[0m\u001b[1;33m)\u001b[0m\u001b[1;33m\u001b[0m\u001b[1;33m\u001b[0m\u001b[0m\n",
      "\u001b[1;32m<ipython-input-3-44cf7346ea87>\u001b[0m in \u001b[0;36mget_sellers\u001b[1;34m(asin)\u001b[0m\n\u001b[0;32m     14\u001b[0m \u001b[1;33m\u001b[0m\u001b[0m\n\u001b[0;32m     15\u001b[0m     \u001b[0mpinned_offer\u001b[0m \u001b[1;33m=\u001b[0m \u001b[0msoup2\u001b[0m\u001b[1;33m.\u001b[0m\u001b[0mfind\u001b[0m\u001b[1;33m(\u001b[0m\u001b[1;34m'div'\u001b[0m\u001b[1;33m,\u001b[0m \u001b[1;33m{\u001b[0m\u001b[1;34m\"id\"\u001b[0m\u001b[1;33m:\u001b[0m\u001b[1;34m\"aod-pinned-offer\"\u001b[0m\u001b[1;33m}\u001b[0m\u001b[1;33m)\u001b[0m\u001b[1;33m\u001b[0m\u001b[1;33m\u001b[0m\u001b[0m\n\u001b[1;32m---> 16\u001b[1;33m     \u001b[0msoldById\u001b[0m \u001b[1;33m=\u001b[0m \u001b[0mpinned_offer\u001b[0m\u001b[1;33m.\u001b[0m\u001b[0mfind\u001b[0m\u001b[1;33m(\u001b[0m\u001b[1;34m'div'\u001b[0m\u001b[1;33m,\u001b[0m \u001b[1;33m{\u001b[0m\u001b[1;34m\"id\"\u001b[0m\u001b[1;33m:\u001b[0m\u001b[1;34m\"aod-offer-soldBy\"\u001b[0m\u001b[1;33m}\u001b[0m\u001b[1;33m)\u001b[0m\u001b[1;33m\u001b[0m\u001b[1;33m\u001b[0m\u001b[0m\n\u001b[0m\u001b[0;32m     17\u001b[0m     \u001b[0msoldByTag\u001b[0m \u001b[1;33m=\u001b[0m \u001b[0msoldById\u001b[0m\u001b[1;33m.\u001b[0m\u001b[0mfind\u001b[0m\u001b[1;33m(\u001b[0m\u001b[1;34m'span'\u001b[0m\u001b[1;33m,\u001b[0m \u001b[1;33m{\u001b[0m\u001b[1;34m\"aria-label\"\u001b[0m\u001b[1;33m:\u001b[0m\u001b[1;34m\"Amazon.com. Opens a new page\"\u001b[0m\u001b[1;33m}\u001b[0m\u001b[1;33m)\u001b[0m\u001b[1;33m\u001b[0m\u001b[1;33m\u001b[0m\u001b[0m\n\u001b[0;32m     18\u001b[0m     \u001b[1;32mif\u001b[0m \u001b[1;33m(\u001b[0m\u001b[0msoldByTag\u001b[0m \u001b[1;33m==\u001b[0m \u001b[1;32mNone\u001b[0m\u001b[1;33m)\u001b[0m\u001b[1;33m:\u001b[0m\u001b[1;33m\u001b[0m\u001b[1;33m\u001b[0m\u001b[0m\n",
      "\u001b[1;31mAttributeError\u001b[0m: 'NoneType' object has no attribute 'find'"
     ]
    }
   ],
   "source": [
    "asin = 'B08L7FXXJ9'\n",
    "df_001 = get_excel_one_listing(asin)\n",
    "print(df_001)\n",
    "type(df_001)"
   ]
  },
  {
   "cell_type": "code",
   "execution_count": null,
   "id": "6d39c890",
   "metadata": {},
   "outputs": [],
   "source": [
    "asin = 'B07VJ693ZL'\n",
    "df_002 = get_excel_one_listing(asin)"
   ]
  },
  {
   "cell_type": "code",
   "execution_count": null,
   "id": "60f701fa",
   "metadata": {},
   "outputs": [],
   "source": [
    "#add 2 listings\n",
    "df_all = pandas.concat([df_001,df_002])\n",
    "df_all"
   ]
  },
  {
   "cell_type": "code",
   "execution_count": null,
   "id": "15c203d7",
   "metadata": {},
   "outputs": [],
   "source": [
    "df_all3 = pandas.DataFrame()\n",
    "df_all3 = df_all3.append(df_001)\n",
    "df_all3.append(df_002)"
   ]
  },
  {
   "cell_type": "code",
   "execution_count": null,
   "id": "2b415c55",
   "metadata": {},
   "outputs": [],
   "source": [
    "df_all.to_excel('pandas_to_excel.xlsx', sheet_name='new_sheet_name')"
   ]
  },
  {
   "cell_type": "code",
   "execution_count": null,
   "id": "28218185",
   "metadata": {},
   "outputs": [],
   "source": [
    "#combine more listings\n",
    "\n",
    "def get_excel_forAll_listings(asin_lists):\n",
    "    df_all2 = pandas.DataFrame()\n",
    "    for i in asin_lists:\n",
    "        if get_excel_one_listing(i) is None:\n",
    "            continue\n",
    "        else:\n",
    "            df_all2 = df_all2.append(get_excel_one_listing(i))\n",
    "            \n",
    "    random_number3 = random.randint(2, 5)\n",
    "    time.sleep(random_number3)      \n",
    "    return(df_all2.to_excel('pandas_to_excel.xlsx', sheet_name='new_sheet_name'))\n",
    "        \n"
   ]
  },
  {
   "cell_type": "code",
   "execution_count": null,
   "id": "67abdc82",
   "metadata": {},
   "outputs": [],
   "source": [
    "asin_lists = ['B08L7FXXJ9','B088WYTXQZ','B09H7S2TXK']\n",
    "get_excel_forAll_listings(asin_lists)"
   ]
  },
  {
   "cell_type": "code",
   "execution_count": null,
   "id": "6c1d9690",
   "metadata": {},
   "outputs": [],
   "source": []
  }
 ],
 "metadata": {
  "kernelspec": {
   "display_name": "Python 3",
   "language": "python",
   "name": "python3"
  },
  "language_info": {
   "codemirror_mode": {
    "name": "ipython",
    "version": 3
   },
   "file_extension": ".py",
   "mimetype": "text/x-python",
   "name": "python",
   "nbconvert_exporter": "python",
   "pygments_lexer": "ipython3",
   "version": "3.8.8"
  }
 },
 "nbformat": 4,
 "nbformat_minor": 5
}
